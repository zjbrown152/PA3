{
 "cells": [
  {
   "cell_type": "markdown",
   "id": "b8530f69",
   "metadata": {},
   "source": [
    "# Programming Assignment 3\n",
    "<p>Author: Zane Brown<br>Version:1.0<br>CS-150-01<p>"
   ]
  },
  {
   "cell_type": "code",
   "execution_count": 21,
   "id": "8b4c09d5",
   "metadata": {},
   "outputs": [
    {
     "name": "stdout",
     "output_type": "stream",
     "text": [
      "Enter the length of side A: 5\n",
      "Enter the length of side B: 5\n",
      "Enter the length of side C: 5\n",
      "The area of the triangle is approximately  2.487469  square units.\n",
      "The perimeter of the triangle is  15.0  linear units.\n"
     ]
    }
   ],
   "source": [
    "from math import sqrt\n",
    "s1=float(input(\"Enter the length of side A: \"))\n",
    "s2=float(input(\"Enter the length of side B: \"))\n",
    "s3=float(input(\"Enter the length of side C: \"))\n",
    "def calcArea(s1=1,s2=1,s3=1):\n",
    "    p=(s1+s2+s3)/2\n",
    "    return sqrt((p*(p-s1)*(p-s2)*(p-s3)))\n",
    "\n",
    "def calcPerimeter(s1=1,s2=1,s3=1):\n",
    "    return s1+s2+s3\n",
    "print(\"The area of the triangle is approximately \", f'{calcArea(s1,s2):.6f}', \" square units.\")\n",
    "print(\"The perimeter of the triangle is \", calcPerimeter(s1,s2,s3), \" linear units.\")\n",
    "\n"
   ]
  },
  {
   "cell_type": "code",
   "execution_count": 24,
   "id": "cbb42c2f",
   "metadata": {},
   "outputs": [
    {
     "name": "stdout",
     "output_type": "stream",
     "text": [
      "The area of the triangle is approximately  0.433013  square units.\n",
      "The perimeter of the triangle is  3  linear units.\n"
     ]
    }
   ],
   "source": [
    "area=calcArea()\n",
    "perimeter=calcPerimeter()\n",
    "print(\"The area of the triangle is approximately \", f'{area:.6f}', \" square units.\")\n",
    "print(\"The perimeter of the triangle is \",perimeter, \" linear units.\")\n"
   ]
  },
  {
   "cell_type": "code",
   "execution_count": 33,
   "id": "8547d328",
   "metadata": {},
   "outputs": [
    {
     "name": "stdout",
     "output_type": "stream",
     "text": [
      "Enter your guess: 900\n",
      "Too high! Guess again\n",
      "Enter your guess: 455\n",
      "Too low! Guess again\n",
      "Enter your guess: 555\n",
      "Too high! Guess again\n",
      "Enter your guess: 500\n",
      "Too low! Guess again\n",
      "Enter your guess: 545\n",
      "Too high! Guess again\n",
      "Enter your guess: 530\n",
      "Too high! Guess again\n",
      "Enter your guess: 520\n",
      "Too low! Guess again\n",
      "Enter your guess: 524\n",
      "Too high! Guess again\n",
      "Enter your guess: 523\n",
      "Too high! Guess again\n",
      "Enter your guess: 522\n",
      "Too high! Guess again\n",
      "Enter your guess: 521\n",
      "Correct!\n"
     ]
    }
   ],
   "source": [
    "import random\n",
    "\n",
    "def evaluateGuess():\n",
    "    number=random.randint(1,1000)\n",
    "    guess_number=None\n",
    "    while guess_number!=number:\n",
    "        guess_number=int(input(\"Enter your guess: \"))\n",
    "        if guess_number<number:\n",
    "            print(\"Too low! Guess again\")\n",
    "        if guess_number>number:\n",
    "            print(\"Too high! Guess again\")\n",
    "        if guess_number==number:\n",
    "            print(\"Correct!\")\n",
    "evaluateGuess()\n",
    "    \n",
    "       \n",
    "        \n",
    "        "
   ]
  },
  {
   "cell_type": "code",
   "execution_count": 79,
   "id": "c788776f",
   "metadata": {},
   "outputs": [
    {
     "name": "stdout",
     "output_type": "stream",
     "text": [
      "The mean temperature for the past  3  days is  31.67 degrees F.\n",
      "The mean temperature for the past  6  days is  30.83 degrees F.\n",
      "The mean temperature for the past  7  days is  83.29 degrees F.\n"
     ]
    }
   ],
   "source": [
    "import statistics as stats\n",
    "\n",
    "def meanTemp(*temps):\n",
    "    x=f'{stats.mean(temps):.2f}'\n",
    "    y=len(temps)\n",
    "    print(\"The mean temperature for the past \",y,\" days is \",x, \"degrees F.\")\n",
    "meanTemp(29,32,34)\n",
    "meanTemp(30,32,12,45,32,34)\n",
    "meanTemp(90,84,75,98,69,79,88)\n",
    "   "
   ]
  },
  {
   "cell_type": "code",
   "execution_count": null,
   "id": "674aaef6",
   "metadata": {},
   "outputs": [],
   "source": []
  }
 ],
 "metadata": {
  "kernelspec": {
   "display_name": "Python 3",
   "language": "python",
   "name": "python3"
  },
  "language_info": {
   "codemirror_mode": {
    "name": "ipython",
    "version": 3
   },
   "file_extension": ".py",
   "mimetype": "text/x-python",
   "name": "python",
   "nbconvert_exporter": "python",
   "pygments_lexer": "ipython3",
   "version": "3.8.8"
  }
 },
 "nbformat": 4,
 "nbformat_minor": 5
}
